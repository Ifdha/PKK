{
  "nbformat": 4,
  "nbformat_minor": 0,
  "metadata": {
    "colab": {
      "provenance": []
    },
    "kernelspec": {
      "name": "python3",
      "display_name": "Python 3"
    },
    "language_info": {
      "name": "python"
    }
  },
  "cells": [
    {
      "cell_type": "code",
      "source": [
        " pip install -q -U keras-tuner"
      ],
      "metadata": {
        "colab": {
          "base_uri": "https://localhost:8080/"
        },
        "id": "TH2PzdBLyEd-",
        "outputId": "1ead328f-e60a-46b5-ae61-a4f36c60cea7"
      },
      "execution_count": null,
      "outputs": [
        {
          "output_type": "stream",
          "name": "stdout",
          "text": [
            "\u001b[?25l     \u001b[90m━━━━━━━━━━━━━━━━━━━━━━━━━━━━━━━━━━━━━━━━\u001b[0m \u001b[32m0.0/129.1 kB\u001b[0m \u001b[31m?\u001b[0m eta \u001b[36m-:--:--\u001b[0m\r\u001b[2K     \u001b[91m━━━━━━━━━━━━━━━━━━━━━━━━━━━━━━━━━━━━━━\u001b[0m\u001b[90m╺\u001b[0m\u001b[90m━\u001b[0m \u001b[32m122.9/129.1 kB\u001b[0m \u001b[31m3.8 MB/s\u001b[0m eta \u001b[36m0:00:01\u001b[0m\r\u001b[2K     \u001b[90m━━━━━━━━━━━━━━━━━━━━━━━━━━━━━━━━━━━━━━━━\u001b[0m \u001b[32m129.1/129.1 kB\u001b[0m \u001b[31m3.2 MB/s\u001b[0m eta \u001b[36m0:00:00\u001b[0m\n",
            "\u001b[?25h"
          ]
        }
      ]
    },
    {
      "cell_type": "code",
      "execution_count": null,
      "metadata": {
        "id": "z-PcCp7UHN2R"
      },
      "outputs": [],
      "source": [
        "import numpy as np\n",
        "import pandas as pd\n",
        "import matplotlib.pyplot as plt\n",
        "import seaborn as sns\n",
        "from google.colab import drive\n",
        "import tensorflow as tf\n",
        "from tensorflow.keras.models import Sequential\n",
        "from tensorflow.keras.layers import Dense, Dropout\n",
        "from tensorflow.keras.utils import Sequence\n",
        "from sklearn.model_selection import train_test_split\n",
        "from sklearn.preprocessing import StandardScaler\n",
        "from sklearn.metrics import accuracy_score, precision_score, recall_score, f1_score, confusion_matrix, multilabel_confusion_matrix\n",
        "import matplotlib.pyplot as plt\n",
        "from tensorflow.keras.models import Sequential\n",
        "from tensorflow.keras.layers import Dense, Dropout\n",
        "from tensorflow.keras.optimizers import Adam\n",
        "from sklearn.metrics import classification_report\n",
        "from sklearn.preprocessing import LabelEncoder\n",
        "import keras_tuner as kt"
      ]
    },
    {
      "cell_type": "code",
      "source": [
        "data = pd.read_csv('/content/ai4i2020.csv')\n",
        "data"
      ],
      "metadata": {
        "colab": {
          "base_uri": "https://localhost:8080/",
          "height": 424
        },
        "id": "IJQK3cpvHlAl",
        "outputId": "c31a275f-6cec-4699-f0f2-b51355229bc1"
      },
      "execution_count": null,
      "outputs": [
        {
          "output_type": "execute_result",
          "data": {
            "text/plain": [
              "        UDI Product ID Type  Air temperature [K]  Process temperature [K]  \\\n",
              "0         1     M14860    M                298.1                    308.6   \n",
              "1         2     L47181    L                298.2                    308.7   \n",
              "2         3     L47182    L                298.1                    308.5   \n",
              "3         4     L47183    L                298.2                    308.6   \n",
              "4         5     L47184    L                298.2                    308.7   \n",
              "...     ...        ...  ...                  ...                      ...   \n",
              "9995   9996     M24855    M                298.8                    308.4   \n",
              "9996   9997     H39410    H                298.9                    308.4   \n",
              "9997   9998     M24857    M                299.0                    308.6   \n",
              "9998   9999     H39412    H                299.0                    308.7   \n",
              "9999  10000     M24859    M                299.0                    308.7   \n",
              "\n",
              "      Rotational speed [rpm]  Torque [Nm]  Tool wear [min]  Machine failure  \\\n",
              "0                       1551         42.8                0                0   \n",
              "1                       1408         46.3                3                0   \n",
              "2                       1498         49.4                5                0   \n",
              "3                       1433         39.5                7                0   \n",
              "4                       1408         40.0                9                0   \n",
              "...                      ...          ...              ...              ...   \n",
              "9995                    1604         29.5               14                0   \n",
              "9996                    1632         31.8               17                0   \n",
              "9997                    1645         33.4               22                0   \n",
              "9998                    1408         48.5               25                0   \n",
              "9999                    1500         40.2               30                0   \n",
              "\n",
              "      TWF  HDF  PWF  OSF  RNF  \n",
              "0       0    0    0    0    0  \n",
              "1       0    0    0    0    0  \n",
              "2       0    0    0    0    0  \n",
              "3       0    0    0    0    0  \n",
              "4       0    0    0    0    0  \n",
              "...   ...  ...  ...  ...  ...  \n",
              "9995    0    0    0    0    0  \n",
              "9996    0    0    0    0    0  \n",
              "9997    0    0    0    0    0  \n",
              "9998    0    0    0    0    0  \n",
              "9999    0    0    0    0    0  \n",
              "\n",
              "[10000 rows x 14 columns]"
            ],
            "text/html": [
              "\n",
              "  <div id=\"df-44bea78a-decc-415b-9424-c853afc7edb6\" class=\"colab-df-container\">\n",
              "    <div>\n",
              "<style scoped>\n",
              "    .dataframe tbody tr th:only-of-type {\n",
              "        vertical-align: middle;\n",
              "    }\n",
              "\n",
              "    .dataframe tbody tr th {\n",
              "        vertical-align: top;\n",
              "    }\n",
              "\n",
              "    .dataframe thead th {\n",
              "        text-align: right;\n",
              "    }\n",
              "</style>\n",
              "<table border=\"1\" class=\"dataframe\">\n",
              "  <thead>\n",
              "    <tr style=\"text-align: right;\">\n",
              "      <th></th>\n",
              "      <th>UDI</th>\n",
              "      <th>Product ID</th>\n",
              "      <th>Type</th>\n",
              "      <th>Air temperature [K]</th>\n",
              "      <th>Process temperature [K]</th>\n",
              "      <th>Rotational speed [rpm]</th>\n",
              "      <th>Torque [Nm]</th>\n",
              "      <th>Tool wear [min]</th>\n",
              "      <th>Machine failure</th>\n",
              "      <th>TWF</th>\n",
              "      <th>HDF</th>\n",
              "      <th>PWF</th>\n",
              "      <th>OSF</th>\n",
              "      <th>RNF</th>\n",
              "    </tr>\n",
              "  </thead>\n",
              "  <tbody>\n",
              "    <tr>\n",
              "      <th>0</th>\n",
              "      <td>1</td>\n",
              "      <td>M14860</td>\n",
              "      <td>M</td>\n",
              "      <td>298.1</td>\n",
              "      <td>308.6</td>\n",
              "      <td>1551</td>\n",
              "      <td>42.8</td>\n",
              "      <td>0</td>\n",
              "      <td>0</td>\n",
              "      <td>0</td>\n",
              "      <td>0</td>\n",
              "      <td>0</td>\n",
              "      <td>0</td>\n",
              "      <td>0</td>\n",
              "    </tr>\n",
              "    <tr>\n",
              "      <th>1</th>\n",
              "      <td>2</td>\n",
              "      <td>L47181</td>\n",
              "      <td>L</td>\n",
              "      <td>298.2</td>\n",
              "      <td>308.7</td>\n",
              "      <td>1408</td>\n",
              "      <td>46.3</td>\n",
              "      <td>3</td>\n",
              "      <td>0</td>\n",
              "      <td>0</td>\n",
              "      <td>0</td>\n",
              "      <td>0</td>\n",
              "      <td>0</td>\n",
              "      <td>0</td>\n",
              "    </tr>\n",
              "    <tr>\n",
              "      <th>2</th>\n",
              "      <td>3</td>\n",
              "      <td>L47182</td>\n",
              "      <td>L</td>\n",
              "      <td>298.1</td>\n",
              "      <td>308.5</td>\n",
              "      <td>1498</td>\n",
              "      <td>49.4</td>\n",
              "      <td>5</td>\n",
              "      <td>0</td>\n",
              "      <td>0</td>\n",
              "      <td>0</td>\n",
              "      <td>0</td>\n",
              "      <td>0</td>\n",
              "      <td>0</td>\n",
              "    </tr>\n",
              "    <tr>\n",
              "      <th>3</th>\n",
              "      <td>4</td>\n",
              "      <td>L47183</td>\n",
              "      <td>L</td>\n",
              "      <td>298.2</td>\n",
              "      <td>308.6</td>\n",
              "      <td>1433</td>\n",
              "      <td>39.5</td>\n",
              "      <td>7</td>\n",
              "      <td>0</td>\n",
              "      <td>0</td>\n",
              "      <td>0</td>\n",
              "      <td>0</td>\n",
              "      <td>0</td>\n",
              "      <td>0</td>\n",
              "    </tr>\n",
              "    <tr>\n",
              "      <th>4</th>\n",
              "      <td>5</td>\n",
              "      <td>L47184</td>\n",
              "      <td>L</td>\n",
              "      <td>298.2</td>\n",
              "      <td>308.7</td>\n",
              "      <td>1408</td>\n",
              "      <td>40.0</td>\n",
              "      <td>9</td>\n",
              "      <td>0</td>\n",
              "      <td>0</td>\n",
              "      <td>0</td>\n",
              "      <td>0</td>\n",
              "      <td>0</td>\n",
              "      <td>0</td>\n",
              "    </tr>\n",
              "    <tr>\n",
              "      <th>...</th>\n",
              "      <td>...</td>\n",
              "      <td>...</td>\n",
              "      <td>...</td>\n",
              "      <td>...</td>\n",
              "      <td>...</td>\n",
              "      <td>...</td>\n",
              "      <td>...</td>\n",
              "      <td>...</td>\n",
              "      <td>...</td>\n",
              "      <td>...</td>\n",
              "      <td>...</td>\n",
              "      <td>...</td>\n",
              "      <td>...</td>\n",
              "      <td>...</td>\n",
              "    </tr>\n",
              "    <tr>\n",
              "      <th>9995</th>\n",
              "      <td>9996</td>\n",
              "      <td>M24855</td>\n",
              "      <td>M</td>\n",
              "      <td>298.8</td>\n",
              "      <td>308.4</td>\n",
              "      <td>1604</td>\n",
              "      <td>29.5</td>\n",
              "      <td>14</td>\n",
              "      <td>0</td>\n",
              "      <td>0</td>\n",
              "      <td>0</td>\n",
              "      <td>0</td>\n",
              "      <td>0</td>\n",
              "      <td>0</td>\n",
              "    </tr>\n",
              "    <tr>\n",
              "      <th>9996</th>\n",
              "      <td>9997</td>\n",
              "      <td>H39410</td>\n",
              "      <td>H</td>\n",
              "      <td>298.9</td>\n",
              "      <td>308.4</td>\n",
              "      <td>1632</td>\n",
              "      <td>31.8</td>\n",
              "      <td>17</td>\n",
              "      <td>0</td>\n",
              "      <td>0</td>\n",
              "      <td>0</td>\n",
              "      <td>0</td>\n",
              "      <td>0</td>\n",
              "      <td>0</td>\n",
              "    </tr>\n",
              "    <tr>\n",
              "      <th>9997</th>\n",
              "      <td>9998</td>\n",
              "      <td>M24857</td>\n",
              "      <td>M</td>\n",
              "      <td>299.0</td>\n",
              "      <td>308.6</td>\n",
              "      <td>1645</td>\n",
              "      <td>33.4</td>\n",
              "      <td>22</td>\n",
              "      <td>0</td>\n",
              "      <td>0</td>\n",
              "      <td>0</td>\n",
              "      <td>0</td>\n",
              "      <td>0</td>\n",
              "      <td>0</td>\n",
              "    </tr>\n",
              "    <tr>\n",
              "      <th>9998</th>\n",
              "      <td>9999</td>\n",
              "      <td>H39412</td>\n",
              "      <td>H</td>\n",
              "      <td>299.0</td>\n",
              "      <td>308.7</td>\n",
              "      <td>1408</td>\n",
              "      <td>48.5</td>\n",
              "      <td>25</td>\n",
              "      <td>0</td>\n",
              "      <td>0</td>\n",
              "      <td>0</td>\n",
              "      <td>0</td>\n",
              "      <td>0</td>\n",
              "      <td>0</td>\n",
              "    </tr>\n",
              "    <tr>\n",
              "      <th>9999</th>\n",
              "      <td>10000</td>\n",
              "      <td>M24859</td>\n",
              "      <td>M</td>\n",
              "      <td>299.0</td>\n",
              "      <td>308.7</td>\n",
              "      <td>1500</td>\n",
              "      <td>40.2</td>\n",
              "      <td>30</td>\n",
              "      <td>0</td>\n",
              "      <td>0</td>\n",
              "      <td>0</td>\n",
              "      <td>0</td>\n",
              "      <td>0</td>\n",
              "      <td>0</td>\n",
              "    </tr>\n",
              "  </tbody>\n",
              "</table>\n",
              "<p>10000 rows × 14 columns</p>\n",
              "</div>\n",
              "    <div class=\"colab-df-buttons\">\n",
              "\n",
              "  <div class=\"colab-df-container\">\n",
              "    <button class=\"colab-df-convert\" onclick=\"convertToInteractive('df-44bea78a-decc-415b-9424-c853afc7edb6')\"\n",
              "            title=\"Convert this dataframe to an interactive table.\"\n",
              "            style=\"display:none;\">\n",
              "\n",
              "  <svg xmlns=\"http://www.w3.org/2000/svg\" height=\"24px\" viewBox=\"0 -960 960 960\">\n",
              "    <path d=\"M120-120v-720h720v720H120Zm60-500h600v-160H180v160Zm220 220h160v-160H400v160Zm0 220h160v-160H400v160ZM180-400h160v-160H180v160Zm440 0h160v-160H620v160ZM180-180h160v-160H180v160Zm440 0h160v-160H620v160Z\"/>\n",
              "  </svg>\n",
              "    </button>\n",
              "\n",
              "  <style>\n",
              "    .colab-df-container {\n",
              "      display:flex;\n",
              "      gap: 12px;\n",
              "    }\n",
              "\n",
              "    .colab-df-convert {\n",
              "      background-color: #E8F0FE;\n",
              "      border: none;\n",
              "      border-radius: 50%;\n",
              "      cursor: pointer;\n",
              "      display: none;\n",
              "      fill: #1967D2;\n",
              "      height: 32px;\n",
              "      padding: 0 0 0 0;\n",
              "      width: 32px;\n",
              "    }\n",
              "\n",
              "    .colab-df-convert:hover {\n",
              "      background-color: #E2EBFA;\n",
              "      box-shadow: 0px 1px 2px rgba(60, 64, 67, 0.3), 0px 1px 3px 1px rgba(60, 64, 67, 0.15);\n",
              "      fill: #174EA6;\n",
              "    }\n",
              "\n",
              "    .colab-df-buttons div {\n",
              "      margin-bottom: 4px;\n",
              "    }\n",
              "\n",
              "    [theme=dark] .colab-df-convert {\n",
              "      background-color: #3B4455;\n",
              "      fill: #D2E3FC;\n",
              "    }\n",
              "\n",
              "    [theme=dark] .colab-df-convert:hover {\n",
              "      background-color: #434B5C;\n",
              "      box-shadow: 0px 1px 3px 1px rgba(0, 0, 0, 0.15);\n",
              "      filter: drop-shadow(0px 1px 2px rgba(0, 0, 0, 0.3));\n",
              "      fill: #FFFFFF;\n",
              "    }\n",
              "  </style>\n",
              "\n",
              "    <script>\n",
              "      const buttonEl =\n",
              "        document.querySelector('#df-44bea78a-decc-415b-9424-c853afc7edb6 button.colab-df-convert');\n",
              "      buttonEl.style.display =\n",
              "        google.colab.kernel.accessAllowed ? 'block' : 'none';\n",
              "\n",
              "      async function convertToInteractive(key) {\n",
              "        const element = document.querySelector('#df-44bea78a-decc-415b-9424-c853afc7edb6');\n",
              "        const dataTable =\n",
              "          await google.colab.kernel.invokeFunction('convertToInteractive',\n",
              "                                                    [key], {});\n",
              "        if (!dataTable) return;\n",
              "\n",
              "        const docLinkHtml = 'Like what you see? Visit the ' +\n",
              "          '<a target=\"_blank\" href=https://colab.research.google.com/notebooks/data_table.ipynb>data table notebook</a>'\n",
              "          + ' to learn more about interactive tables.';\n",
              "        element.innerHTML = '';\n",
              "        dataTable['output_type'] = 'display_data';\n",
              "        await google.colab.output.renderOutput(dataTable, element);\n",
              "        const docLink = document.createElement('div');\n",
              "        docLink.innerHTML = docLinkHtml;\n",
              "        element.appendChild(docLink);\n",
              "      }\n",
              "    </script>\n",
              "  </div>\n",
              "\n",
              "\n",
              "<div id=\"df-8c6a91e7-209d-403b-b1bb-4cb32966a929\">\n",
              "  <button class=\"colab-df-quickchart\" onclick=\"quickchart('df-8c6a91e7-209d-403b-b1bb-4cb32966a929')\"\n",
              "            title=\"Suggest charts\"\n",
              "            style=\"display:none;\">\n",
              "\n",
              "<svg xmlns=\"http://www.w3.org/2000/svg\" height=\"24px\"viewBox=\"0 0 24 24\"\n",
              "     width=\"24px\">\n",
              "    <g>\n",
              "        <path d=\"M19 3H5c-1.1 0-2 .9-2 2v14c0 1.1.9 2 2 2h14c1.1 0 2-.9 2-2V5c0-1.1-.9-2-2-2zM9 17H7v-7h2v7zm4 0h-2V7h2v10zm4 0h-2v-4h2v4z\"/>\n",
              "    </g>\n",
              "</svg>\n",
              "  </button>\n",
              "\n",
              "<style>\n",
              "  .colab-df-quickchart {\n",
              "      --bg-color: #E8F0FE;\n",
              "      --fill-color: #1967D2;\n",
              "      --hover-bg-color: #E2EBFA;\n",
              "      --hover-fill-color: #174EA6;\n",
              "      --disabled-fill-color: #AAA;\n",
              "      --disabled-bg-color: #DDD;\n",
              "  }\n",
              "\n",
              "  [theme=dark] .colab-df-quickchart {\n",
              "      --bg-color: #3B4455;\n",
              "      --fill-color: #D2E3FC;\n",
              "      --hover-bg-color: #434B5C;\n",
              "      --hover-fill-color: #FFFFFF;\n",
              "      --disabled-bg-color: #3B4455;\n",
              "      --disabled-fill-color: #666;\n",
              "  }\n",
              "\n",
              "  .colab-df-quickchart {\n",
              "    background-color: var(--bg-color);\n",
              "    border: none;\n",
              "    border-radius: 50%;\n",
              "    cursor: pointer;\n",
              "    display: none;\n",
              "    fill: var(--fill-color);\n",
              "    height: 32px;\n",
              "    padding: 0;\n",
              "    width: 32px;\n",
              "  }\n",
              "\n",
              "  .colab-df-quickchart:hover {\n",
              "    background-color: var(--hover-bg-color);\n",
              "    box-shadow: 0 1px 2px rgba(60, 64, 67, 0.3), 0 1px 3px 1px rgba(60, 64, 67, 0.15);\n",
              "    fill: var(--button-hover-fill-color);\n",
              "  }\n",
              "\n",
              "  .colab-df-quickchart-complete:disabled,\n",
              "  .colab-df-quickchart-complete:disabled:hover {\n",
              "    background-color: var(--disabled-bg-color);\n",
              "    fill: var(--disabled-fill-color);\n",
              "    box-shadow: none;\n",
              "  }\n",
              "\n",
              "  .colab-df-spinner {\n",
              "    border: 2px solid var(--fill-color);\n",
              "    border-color: transparent;\n",
              "    border-bottom-color: var(--fill-color);\n",
              "    animation:\n",
              "      spin 1s steps(1) infinite;\n",
              "  }\n",
              "\n",
              "  @keyframes spin {\n",
              "    0% {\n",
              "      border-color: transparent;\n",
              "      border-bottom-color: var(--fill-color);\n",
              "      border-left-color: var(--fill-color);\n",
              "    }\n",
              "    20% {\n",
              "      border-color: transparent;\n",
              "      border-left-color: var(--fill-color);\n",
              "      border-top-color: var(--fill-color);\n",
              "    }\n",
              "    30% {\n",
              "      border-color: transparent;\n",
              "      border-left-color: var(--fill-color);\n",
              "      border-top-color: var(--fill-color);\n",
              "      border-right-color: var(--fill-color);\n",
              "    }\n",
              "    40% {\n",
              "      border-color: transparent;\n",
              "      border-right-color: var(--fill-color);\n",
              "      border-top-color: var(--fill-color);\n",
              "    }\n",
              "    60% {\n",
              "      border-color: transparent;\n",
              "      border-right-color: var(--fill-color);\n",
              "    }\n",
              "    80% {\n",
              "      border-color: transparent;\n",
              "      border-right-color: var(--fill-color);\n",
              "      border-bottom-color: var(--fill-color);\n",
              "    }\n",
              "    90% {\n",
              "      border-color: transparent;\n",
              "      border-bottom-color: var(--fill-color);\n",
              "    }\n",
              "  }\n",
              "</style>\n",
              "\n",
              "  <script>\n",
              "    async function quickchart(key) {\n",
              "      const quickchartButtonEl =\n",
              "        document.querySelector('#' + key + ' button');\n",
              "      quickchartButtonEl.disabled = true;  // To prevent multiple clicks.\n",
              "      quickchartButtonEl.classList.add('colab-df-spinner');\n",
              "      try {\n",
              "        const charts = await google.colab.kernel.invokeFunction(\n",
              "            'suggestCharts', [key], {});\n",
              "      } catch (error) {\n",
              "        console.error('Error during call to suggestCharts:', error);\n",
              "      }\n",
              "      quickchartButtonEl.classList.remove('colab-df-spinner');\n",
              "      quickchartButtonEl.classList.add('colab-df-quickchart-complete');\n",
              "    }\n",
              "    (() => {\n",
              "      let quickchartButtonEl =\n",
              "        document.querySelector('#df-8c6a91e7-209d-403b-b1bb-4cb32966a929 button');\n",
              "      quickchartButtonEl.style.display =\n",
              "        google.colab.kernel.accessAllowed ? 'block' : 'none';\n",
              "    })();\n",
              "  </script>\n",
              "</div>\n",
              "\n",
              "  <div id=\"id_0699f160-04f7-4e2b-b70e-b139a12477da\">\n",
              "    <style>\n",
              "      .colab-df-generate {\n",
              "        background-color: #E8F0FE;\n",
              "        border: none;\n",
              "        border-radius: 50%;\n",
              "        cursor: pointer;\n",
              "        display: none;\n",
              "        fill: #1967D2;\n",
              "        height: 32px;\n",
              "        padding: 0 0 0 0;\n",
              "        width: 32px;\n",
              "      }\n",
              "\n",
              "      .colab-df-generate:hover {\n",
              "        background-color: #E2EBFA;\n",
              "        box-shadow: 0px 1px 2px rgba(60, 64, 67, 0.3), 0px 1px 3px 1px rgba(60, 64, 67, 0.15);\n",
              "        fill: #174EA6;\n",
              "      }\n",
              "\n",
              "      [theme=dark] .colab-df-generate {\n",
              "        background-color: #3B4455;\n",
              "        fill: #D2E3FC;\n",
              "      }\n",
              "\n",
              "      [theme=dark] .colab-df-generate:hover {\n",
              "        background-color: #434B5C;\n",
              "        box-shadow: 0px 1px 3px 1px rgba(0, 0, 0, 0.15);\n",
              "        filter: drop-shadow(0px 1px 2px rgba(0, 0, 0, 0.3));\n",
              "        fill: #FFFFFF;\n",
              "      }\n",
              "    </style>\n",
              "    <button class=\"colab-df-generate\" onclick=\"generateWithVariable('data')\"\n",
              "            title=\"Generate code using this dataframe.\"\n",
              "            style=\"display:none;\">\n",
              "\n",
              "  <svg xmlns=\"http://www.w3.org/2000/svg\" height=\"24px\"viewBox=\"0 0 24 24\"\n",
              "       width=\"24px\">\n",
              "    <path d=\"M7,19H8.4L18.45,9,17,7.55,7,17.6ZM5,21V16.75L18.45,3.32a2,2,0,0,1,2.83,0l1.4,1.43a1.91,1.91,0,0,1,.58,1.4,1.91,1.91,0,0,1-.58,1.4L9.25,21ZM18.45,9,17,7.55Zm-12,3A5.31,5.31,0,0,0,4.9,8.1,5.31,5.31,0,0,0,1,6.5,5.31,5.31,0,0,0,4.9,4.9,5.31,5.31,0,0,0,6.5,1,5.31,5.31,0,0,0,8.1,4.9,5.31,5.31,0,0,0,12,6.5,5.46,5.46,0,0,0,6.5,12Z\"/>\n",
              "  </svg>\n",
              "    </button>\n",
              "    <script>\n",
              "      (() => {\n",
              "      const buttonEl =\n",
              "        document.querySelector('#id_0699f160-04f7-4e2b-b70e-b139a12477da button.colab-df-generate');\n",
              "      buttonEl.style.display =\n",
              "        google.colab.kernel.accessAllowed ? 'block' : 'none';\n",
              "\n",
              "      buttonEl.onclick = () => {\n",
              "        google.colab.notebook.generateWithVariable('data');\n",
              "      }\n",
              "      })();\n",
              "    </script>\n",
              "  </div>\n",
              "\n",
              "    </div>\n",
              "  </div>\n"
            ],
            "application/vnd.google.colaboratory.intrinsic+json": {
              "type": "dataframe",
              "variable_name": "data",
              "summary": "{\n  \"name\": \"data\",\n  \"rows\": 10000,\n  \"fields\": [\n    {\n      \"column\": \"UDI\",\n      \"properties\": {\n        \"dtype\": \"number\",\n        \"std\": 2886,\n        \"min\": 1,\n        \"max\": 10000,\n        \"num_unique_values\": 10000,\n        \"samples\": [\n          6253,\n          4685,\n          1732\n        ],\n        \"semantic_type\": \"\",\n        \"description\": \"\"\n      }\n    },\n    {\n      \"column\": \"Product ID\",\n      \"properties\": {\n        \"dtype\": \"string\",\n        \"num_unique_values\": 10000,\n        \"samples\": [\n          \"L53432\",\n          \"M19544\",\n          \"M16591\"\n        ],\n        \"semantic_type\": \"\",\n        \"description\": \"\"\n      }\n    },\n    {\n      \"column\": \"Type\",\n      \"properties\": {\n        \"dtype\": \"category\",\n        \"num_unique_values\": 3,\n        \"samples\": [\n          \"M\",\n          \"L\",\n          \"H\"\n        ],\n        \"semantic_type\": \"\",\n        \"description\": \"\"\n      }\n    },\n    {\n      \"column\": \"Air temperature [K]\",\n      \"properties\": {\n        \"dtype\": \"number\",\n        \"std\": 2.000258682915751,\n        \"min\": 295.3,\n        \"max\": 304.5,\n        \"num_unique_values\": 93,\n        \"samples\": [\n          299.3,\n          296.9,\n          300.8\n        ],\n        \"semantic_type\": \"\",\n        \"description\": \"\"\n      }\n    },\n    {\n      \"column\": \"Process temperature [K]\",\n      \"properties\": {\n        \"dtype\": \"number\",\n        \"std\": 1.4837342191657208,\n        \"min\": 305.7,\n        \"max\": 313.8,\n        \"num_unique_values\": 82,\n        \"samples\": [\n          307.2,\n          308.6,\n          310.1\n        ],\n        \"semantic_type\": \"\",\n        \"description\": \"\"\n      }\n    },\n    {\n      \"column\": \"Rotational speed [rpm]\",\n      \"properties\": {\n        \"dtype\": \"number\",\n        \"std\": 179,\n        \"min\": 1168,\n        \"max\": 2886,\n        \"num_unique_values\": 941,\n        \"samples\": [\n          1274,\n          1576,\n          2010\n        ],\n        \"semantic_type\": \"\",\n        \"description\": \"\"\n      }\n    },\n    {\n      \"column\": \"Torque [Nm]\",\n      \"properties\": {\n        \"dtype\": \"number\",\n        \"std\": 9.968933725121337,\n        \"min\": 3.8,\n        \"max\": 76.6,\n        \"num_unique_values\": 577,\n        \"samples\": [\n          36.1,\n          65.9,\n          12.6\n        ],\n        \"semantic_type\": \"\",\n        \"description\": \"\"\n      }\n    },\n    {\n      \"column\": \"Tool wear [min]\",\n      \"properties\": {\n        \"dtype\": \"number\",\n        \"std\": 63,\n        \"min\": 0,\n        \"max\": 253,\n        \"num_unique_values\": 246,\n        \"samples\": [\n          93,\n          14,\n          215\n        ],\n        \"semantic_type\": \"\",\n        \"description\": \"\"\n      }\n    },\n    {\n      \"column\": \"Machine failure\",\n      \"properties\": {\n        \"dtype\": \"number\",\n        \"std\": 0,\n        \"min\": 0,\n        \"max\": 1,\n        \"num_unique_values\": 2,\n        \"samples\": [\n          1,\n          0\n        ],\n        \"semantic_type\": \"\",\n        \"description\": \"\"\n      }\n    },\n    {\n      \"column\": \"TWF\",\n      \"properties\": {\n        \"dtype\": \"number\",\n        \"std\": 0,\n        \"min\": 0,\n        \"max\": 1,\n        \"num_unique_values\": 2,\n        \"samples\": [\n          1,\n          0\n        ],\n        \"semantic_type\": \"\",\n        \"description\": \"\"\n      }\n    },\n    {\n      \"column\": \"HDF\",\n      \"properties\": {\n        \"dtype\": \"number\",\n        \"std\": 0,\n        \"min\": 0,\n        \"max\": 1,\n        \"num_unique_values\": 2,\n        \"samples\": [\n          1,\n          0\n        ],\n        \"semantic_type\": \"\",\n        \"description\": \"\"\n      }\n    },\n    {\n      \"column\": \"PWF\",\n      \"properties\": {\n        \"dtype\": \"number\",\n        \"std\": 0,\n        \"min\": 0,\n        \"max\": 1,\n        \"num_unique_values\": 2,\n        \"samples\": [\n          1,\n          0\n        ],\n        \"semantic_type\": \"\",\n        \"description\": \"\"\n      }\n    },\n    {\n      \"column\": \"OSF\",\n      \"properties\": {\n        \"dtype\": \"number\",\n        \"std\": 0,\n        \"min\": 0,\n        \"max\": 1,\n        \"num_unique_values\": 2,\n        \"samples\": [\n          1,\n          0\n        ],\n        \"semantic_type\": \"\",\n        \"description\": \"\"\n      }\n    },\n    {\n      \"column\": \"RNF\",\n      \"properties\": {\n        \"dtype\": \"number\",\n        \"std\": 0,\n        \"min\": 0,\n        \"max\": 1,\n        \"num_unique_values\": 2,\n        \"samples\": [\n          1,\n          0\n        ],\n        \"semantic_type\": \"\",\n        \"description\": \"\"\n      }\n    }\n  ]\n}"
            }
          },
          "metadata": {},
          "execution_count": 3
        }
      ]
    },
    {
      "cell_type": "code",
      "source": [
        "print(data.info())"
      ],
      "metadata": {
        "colab": {
          "base_uri": "https://localhost:8080/"
        },
        "id": "j3J2WpzQH9nK",
        "outputId": "b6741840-a8d8-4dee-af21-c525f467b6c1"
      },
      "execution_count": null,
      "outputs": [
        {
          "output_type": "stream",
          "name": "stdout",
          "text": [
            "<class 'pandas.core.frame.DataFrame'>\n",
            "RangeIndex: 10000 entries, 0 to 9999\n",
            "Data columns (total 14 columns):\n",
            " #   Column                   Non-Null Count  Dtype  \n",
            "---  ------                   --------------  -----  \n",
            " 0   UDI                      10000 non-null  int64  \n",
            " 1   Product ID               10000 non-null  object \n",
            " 2   Type                     10000 non-null  object \n",
            " 3   Air temperature [K]      10000 non-null  float64\n",
            " 4   Process temperature [K]  10000 non-null  float64\n",
            " 5   Rotational speed [rpm]   10000 non-null  int64  \n",
            " 6   Torque [Nm]              10000 non-null  float64\n",
            " 7   Tool wear [min]          10000 non-null  int64  \n",
            " 8   Machine failure          10000 non-null  int64  \n",
            " 9   TWF                      10000 non-null  int64  \n",
            " 10  HDF                      10000 non-null  int64  \n",
            " 11  PWF                      10000 non-null  int64  \n",
            " 12  OSF                      10000 non-null  int64  \n",
            " 13  RNF                      10000 non-null  int64  \n",
            "dtypes: float64(3), int64(9), object(2)\n",
            "memory usage: 1.1+ MB\n",
            "None\n"
          ]
        }
      ]
    },
    {
      "cell_type": "markdown",
      "source": [
        "# Praproses Data"
      ],
      "metadata": {
        "id": "6mikgpV1n3ca"
      }
    },
    {
      "cell_type": "code",
      "source": [
        "# Memeriksa missing values\n",
        "data.isnull().sum()"
      ],
      "metadata": {
        "id": "DgpC-H-FoAlK",
        "colab": {
          "base_uri": "https://localhost:8080/"
        },
        "outputId": "a5de31c0-fa79-4413-bb1e-4bb3175e843b"
      },
      "execution_count": null,
      "outputs": [
        {
          "output_type": "execute_result",
          "data": {
            "text/plain": [
              "UDI                        0\n",
              "Product ID                 0\n",
              "Type                       0\n",
              "Air temperature [K]        0\n",
              "Process temperature [K]    0\n",
              "Rotational speed [rpm]     0\n",
              "Torque [Nm]                0\n",
              "Tool wear [min]            0\n",
              "Machine failure            0\n",
              "TWF                        0\n",
              "HDF                        0\n",
              "PWF                        0\n",
              "OSF                        0\n",
              "RNF                        0\n",
              "dtype: int64"
            ]
          },
          "metadata": {},
          "execution_count": 5
        }
      ]
    },
    {
      "cell_type": "code",
      "source": [
        "# Memeriksa data duplikasi\n",
        "data.duplicated().sum()"
      ],
      "metadata": {
        "id": "LNKDHHXboL9W",
        "colab": {
          "base_uri": "https://localhost:8080/"
        },
        "outputId": "6aabbacd-901a-4d9f-f912-ed27bd4374f3"
      },
      "execution_count": null,
      "outputs": [
        {
          "output_type": "execute_result",
          "data": {
            "text/plain": [
              "0"
            ]
          },
          "metadata": {},
          "execution_count": 6
        }
      ]
    },
    {
      "cell_type": "code",
      "source": [
        "# Membuang kolom yang tidak diperlukan\n",
        "data = data.drop(['UDI', 'Product ID'], axis=1)"
      ],
      "metadata": {
        "id": "TE9eq1TjraBy"
      },
      "execution_count": null,
      "outputs": []
    },
    {
      "cell_type": "code",
      "source": [
        "# Encoding untuk kolom \"Type\"\n",
        "le = LabelEncoder()\n",
        "data['Type'] = le.fit_transform(data['Type'])"
      ],
      "metadata": {
        "id": "LocHdFgLrbp_"
      },
      "execution_count": null,
      "outputs": []
    },
    {
      "cell_type": "code",
      "source": [
        "# Fitur-fitur\n",
        "features = data[['Air temperature [K]',\n",
        "                 'Process temperature [K]',\n",
        "                 'Rotational speed [rpm]',\n",
        "                 'Torque [Nm]', 'Tool wear [min]']]"
      ],
      "metadata": {
        "id": "bGB7CvsVsX9A"
      },
      "execution_count": null,
      "outputs": []
    },
    {
      "cell_type": "code",
      "source": [
        "# Label data\n",
        "labels_failure = data['Machine failure']"
      ],
      "metadata": {
        "id": "Tqz4Pzg7saqE"
      },
      "execution_count": null,
      "outputs": []
    },
    {
      "cell_type": "code",
      "source": [
        "# Standardisasi fitur\n",
        "scaler = StandardScaler()\n",
        "features_scaled = scaler.fit_transform(features)"
      ],
      "metadata": {
        "id": "KfFrU9czshnM"
      },
      "execution_count": null,
      "outputs": []
    },
    {
      "cell_type": "code",
      "source": [
        "# Split data\n",
        "X_train, X_test, y_train, y_test = train_test_split(features_scaled,\n",
        "                                                    labels_failure, test_size=0.2,\n",
        "                                                    random_state=42)"
      ],
      "metadata": {
        "id": "onRTsABVslDd"
      },
      "execution_count": null,
      "outputs": []
    },
    {
      "cell_type": "code",
      "source": [
        "X_train"
      ],
      "metadata": {
        "colab": {
          "base_uri": "https://localhost:8080/"
        },
        "id": "9bJPC5-oswY1",
        "outputId": "b3b9caaf-b915-4145-cab2-461f6e33c271"
      },
      "execution_count": null,
      "outputs": [
        {
          "output_type": "execute_result",
          "data": {
            "text/plain": [
              "array([[-0.85239738, -0.61035546,  0.43075634, -0.89150501,  1.36759909],\n",
              "       [-0.90239341, -1.08216166, -0.84103188,  1.38568287,  0.45637958],\n",
              "       [-0.90239341, -1.48656697, -0.06010929, -0.89150501,  1.35188841],\n",
              "       ...,\n",
              "       [ 1.39742414,  1.54647288, -0.31112012,  0.723593  ,  1.80749816],\n",
              "       [-1.95231012, -2.09317494,  0.01240496, -0.74103004, -1.17753127],\n",
              "       [ 0.09752726,  0.26585605,  1.50173589, -1.42318324, -1.1461099 ]])"
            ]
          },
          "metadata": {},
          "execution_count": 13
        }
      ]
    },
    {
      "cell_type": "code",
      "source": [
        "y_train"
      ],
      "metadata": {
        "colab": {
          "base_uri": "https://localhost:8080/"
        },
        "id": "gDej0n0VsyYz",
        "outputId": "27777db3-49cc-4354-db72-59a808d9603d"
      },
      "execution_count": null,
      "outputs": [
        {
          "output_type": "execute_result",
          "data": {
            "text/plain": [
              "9254    0\n",
              "1561    0\n",
              "1670    0\n",
              "6087    0\n",
              "6669    0\n",
              "       ..\n",
              "5734    1\n",
              "5191    0\n",
              "5390    0\n",
              "860     0\n",
              "7270    0\n",
              "Name: Machine failure, Length: 8000, dtype: int64"
            ]
          },
          "metadata": {},
          "execution_count": 14
        }
      ]
    },
    {
      "cell_type": "code",
      "source": [
        "X_test"
      ],
      "metadata": {
        "colab": {
          "base_uri": "https://localhost:8080/"
        },
        "id": "SHZItp1Fs0x4",
        "outputId": "eda8acaf-6806-4d8b-f3b2-199b19a0f6aa"
      },
      "execution_count": null,
      "outputs": [
        {
          "output_type": "execute_result",
          "data": {
            "text/plain": [
              "array([[ 3.97503465e-01,  1.98455168e-01, -4.32910016e-03,\n",
              "        -3.89921778e-01,  1.41473113e+00],\n",
              "       [ 1.79739241e+00,  1.20946845e+00, -6.56957265e-01,\n",
              "         4.82833050e-01, -1.09204945e-01],\n",
              "       [-8.52397376e-01, -1.41916609e+00, -2.99964081e-01,\n",
              "         2.01946439e-01,  1.42165954e-01],\n",
              "       ...,\n",
              "       [ 1.47523296e-01,  1.14206757e+00, -1.23707119e+00,\n",
              "         1.65653782e+00, -1.58600898e+00],\n",
              "       [-1.55234185e+00, -1.68876963e+00,  6.59446679e+00,\n",
              "        -3.07840791e+00, -1.41319148e+00],\n",
              "       [ 4.97495532e-01,  1.07466668e+00, -1.32631948e+00,\n",
              "         1.50606285e+00, -1.55458761e+00]])"
            ]
          },
          "metadata": {},
          "execution_count": 15
        }
      ]
    },
    {
      "cell_type": "code",
      "source": [
        "y_test"
      ],
      "metadata": {
        "colab": {
          "base_uri": "https://localhost:8080/"
        },
        "id": "KkcVfcBbs3lg",
        "outputId": "c3e4c20d-91a1-4732-a711-f5e984f45fd9"
      },
      "execution_count": null,
      "outputs": [
        {
          "output_type": "execute_result",
          "data": {
            "text/plain": [
              "6252    0\n",
              "4684    1\n",
              "1731    0\n",
              "4742    0\n",
              "4521    0\n",
              "       ..\n",
              "6412    0\n",
              "8285    0\n",
              "7853    0\n",
              "1095    1\n",
              "6929    0\n",
              "Name: Machine failure, Length: 2000, dtype: int64"
            ]
          },
          "metadata": {},
          "execution_count": 16
        }
      ]
    },
    {
      "cell_type": "markdown",
      "source": [
        "# Model Prediksi Machine Failure"
      ],
      "metadata": {
        "id": "Vpht710lMaLE"
      }
    },
    {
      "cell_type": "code",
      "source": [
        "model_failure = Sequential([\n",
        "    Dense(64, input_dim=features_scaled.shape[1], activation='relu'),\n",
        "    Dropout(0.5),\n",
        "    Dense(32, activation='relu'),\n",
        "    Dropout(0.5),\n",
        "    Dense(1, activation='sigmoid')\n",
        "])\n",
        "\n",
        "# Kompilasi model\n",
        "learning_rate = 0.001\n",
        "model_failure.compile(loss='binary_crossentropy',\n",
        "                      optimizer=Adam(learning_rate=\n",
        "                      learning_rate), metrics=['accuracy'])\n",
        "\n",
        "# Pelatihan model\n",
        "batch_size = 32\n",
        "epochs = 50\n",
        "history = model_failure.fit(X_train, y_train,\n",
        "                            epochs=epochs, batch_size=batch_size,\n",
        "                            validation_split=0.2)"
      ],
      "metadata": {
        "colab": {
          "base_uri": "https://localhost:8080/"
        },
        "id": "qvg_cMOhOGhY",
        "outputId": "de817bfd-1e73-4d54-aec0-bdf8b147e156"
      },
      "execution_count": null,
      "outputs": [
        {
          "output_type": "stream",
          "name": "stdout",
          "text": [
            "Epoch 1/50\n",
            "200/200 [==============================] - 4s 7ms/step - loss: 0.3358 - accuracy: 0.8941 - val_loss: 0.1867 - val_accuracy: 0.9588\n",
            "Epoch 2/50\n",
            "200/200 [==============================] - 1s 5ms/step - loss: 0.1780 - accuracy: 0.9667 - val_loss: 0.1628 - val_accuracy: 0.9588\n",
            "Epoch 3/50\n",
            "200/200 [==============================] - 1s 6ms/step - loss: 0.1598 - accuracy: 0.9669 - val_loss: 0.1419 - val_accuracy: 0.9588\n",
            "Epoch 4/50\n",
            "200/200 [==============================] - 1s 7ms/step - loss: 0.1405 - accuracy: 0.9669 - val_loss: 0.1264 - val_accuracy: 0.9588\n",
            "Epoch 5/50\n",
            "200/200 [==============================] - 1s 4ms/step - loss: 0.1279 - accuracy: 0.9661 - val_loss: 0.1213 - val_accuracy: 0.9588\n",
            "Epoch 6/50\n",
            "200/200 [==============================] - 1s 6ms/step - loss: 0.1237 - accuracy: 0.9673 - val_loss: 0.1204 - val_accuracy: 0.9588\n",
            "Epoch 7/50\n",
            "200/200 [==============================] - 1s 5ms/step - loss: 0.1209 - accuracy: 0.9683 - val_loss: 0.1161 - val_accuracy: 0.9594\n",
            "Epoch 8/50\n",
            "200/200 [==============================] - 1s 4ms/step - loss: 0.1104 - accuracy: 0.9680 - val_loss: 0.1126 - val_accuracy: 0.9594\n",
            "Epoch 9/50\n",
            "200/200 [==============================] - 2s 8ms/step - loss: 0.1092 - accuracy: 0.9697 - val_loss: 0.1090 - val_accuracy: 0.9606\n",
            "Epoch 10/50\n",
            "200/200 [==============================] - 2s 8ms/step - loss: 0.1117 - accuracy: 0.9680 - val_loss: 0.1107 - val_accuracy: 0.9606\n",
            "Epoch 11/50\n",
            "200/200 [==============================] - 2s 9ms/step - loss: 0.1072 - accuracy: 0.9684 - val_loss: 0.1073 - val_accuracy: 0.9600\n",
            "Epoch 12/50\n",
            "200/200 [==============================] - 1s 7ms/step - loss: 0.1048 - accuracy: 0.9683 - val_loss: 0.1088 - val_accuracy: 0.9613\n",
            "Epoch 13/50\n",
            "200/200 [==============================] - 1s 7ms/step - loss: 0.1029 - accuracy: 0.9706 - val_loss: 0.1055 - val_accuracy: 0.9606\n",
            "Epoch 14/50\n",
            "200/200 [==============================] - 1s 6ms/step - loss: 0.0962 - accuracy: 0.9709 - val_loss: 0.1046 - val_accuracy: 0.9606\n",
            "Epoch 15/50\n",
            "200/200 [==============================] - 1s 6ms/step - loss: 0.0961 - accuracy: 0.9698 - val_loss: 0.1013 - val_accuracy: 0.9619\n",
            "Epoch 16/50\n",
            "200/200 [==============================] - 1s 6ms/step - loss: 0.0947 - accuracy: 0.9711 - val_loss: 0.1017 - val_accuracy: 0.9619\n",
            "Epoch 17/50\n",
            "200/200 [==============================] - 1s 4ms/step - loss: 0.0922 - accuracy: 0.9711 - val_loss: 0.0998 - val_accuracy: 0.9619\n",
            "Epoch 18/50\n",
            "200/200 [==============================] - 1s 5ms/step - loss: 0.0935 - accuracy: 0.9717 - val_loss: 0.0970 - val_accuracy: 0.9631\n",
            "Epoch 19/50\n",
            "200/200 [==============================] - 1s 6ms/step - loss: 0.0984 - accuracy: 0.9692 - val_loss: 0.0973 - val_accuracy: 0.9619\n",
            "Epoch 20/50\n",
            "200/200 [==============================] - 2s 8ms/step - loss: 0.0932 - accuracy: 0.9709 - val_loss: 0.0963 - val_accuracy: 0.9625\n",
            "Epoch 21/50\n",
            "200/200 [==============================] - 2s 9ms/step - loss: 0.0886 - accuracy: 0.9712 - val_loss: 0.0962 - val_accuracy: 0.9644\n",
            "Epoch 22/50\n",
            "200/200 [==============================] - 2s 8ms/step - loss: 0.0909 - accuracy: 0.9717 - val_loss: 0.0936 - val_accuracy: 0.9638\n",
            "Epoch 23/50\n",
            "200/200 [==============================] - 1s 6ms/step - loss: 0.0850 - accuracy: 0.9725 - val_loss: 0.0917 - val_accuracy: 0.9631\n",
            "Epoch 24/50\n",
            "200/200 [==============================] - 0s 2ms/step - loss: 0.0888 - accuracy: 0.9737 - val_loss: 0.0936 - val_accuracy: 0.9631\n",
            "Epoch 25/50\n",
            "200/200 [==============================] - 0s 2ms/step - loss: 0.0812 - accuracy: 0.9744 - val_loss: 0.0927 - val_accuracy: 0.9644\n",
            "Epoch 26/50\n",
            "200/200 [==============================] - 0s 2ms/step - loss: 0.0862 - accuracy: 0.9725 - val_loss: 0.0905 - val_accuracy: 0.9663\n",
            "Epoch 27/50\n",
            "200/200 [==============================] - 0s 2ms/step - loss: 0.0796 - accuracy: 0.9730 - val_loss: 0.0886 - val_accuracy: 0.9675\n",
            "Epoch 28/50\n",
            "200/200 [==============================] - 0s 2ms/step - loss: 0.0804 - accuracy: 0.9762 - val_loss: 0.0880 - val_accuracy: 0.9663\n",
            "Epoch 29/50\n",
            "200/200 [==============================] - 0s 2ms/step - loss: 0.0802 - accuracy: 0.9758 - val_loss: 0.0840 - val_accuracy: 0.9706\n",
            "Epoch 30/50\n",
            "200/200 [==============================] - 0s 2ms/step - loss: 0.0827 - accuracy: 0.9728 - val_loss: 0.0863 - val_accuracy: 0.9669\n",
            "Epoch 31/50\n",
            "200/200 [==============================] - 0s 2ms/step - loss: 0.0845 - accuracy: 0.9716 - val_loss: 0.0861 - val_accuracy: 0.9675\n",
            "Epoch 32/50\n",
            "200/200 [==============================] - 0s 2ms/step - loss: 0.0787 - accuracy: 0.9736 - val_loss: 0.0851 - val_accuracy: 0.9675\n",
            "Epoch 33/50\n",
            "200/200 [==============================] - 0s 2ms/step - loss: 0.0749 - accuracy: 0.9758 - val_loss: 0.0829 - val_accuracy: 0.9706\n",
            "Epoch 34/50\n",
            "200/200 [==============================] - 0s 2ms/step - loss: 0.0727 - accuracy: 0.9755 - val_loss: 0.0830 - val_accuracy: 0.9688\n",
            "Epoch 35/50\n",
            "200/200 [==============================] - 0s 2ms/step - loss: 0.0744 - accuracy: 0.9758 - val_loss: 0.0838 - val_accuracy: 0.9700\n",
            "Epoch 36/50\n",
            "200/200 [==============================] - 0s 2ms/step - loss: 0.0734 - accuracy: 0.9773 - val_loss: 0.0830 - val_accuracy: 0.9681\n",
            "Epoch 37/50\n",
            "200/200 [==============================] - 0s 2ms/step - loss: 0.0742 - accuracy: 0.9742 - val_loss: 0.0806 - val_accuracy: 0.9700\n",
            "Epoch 38/50\n",
            "200/200 [==============================] - 0s 2ms/step - loss: 0.0805 - accuracy: 0.9753 - val_loss: 0.0786 - val_accuracy: 0.9712\n",
            "Epoch 39/50\n",
            "200/200 [==============================] - 0s 2ms/step - loss: 0.0772 - accuracy: 0.9750 - val_loss: 0.0798 - val_accuracy: 0.9688\n",
            "Epoch 40/50\n",
            "200/200 [==============================] - 0s 2ms/step - loss: 0.0758 - accuracy: 0.9758 - val_loss: 0.0783 - val_accuracy: 0.9712\n",
            "Epoch 41/50\n",
            "200/200 [==============================] - 0s 2ms/step - loss: 0.0726 - accuracy: 0.9764 - val_loss: 0.0770 - val_accuracy: 0.9712\n",
            "Epoch 42/50\n",
            "200/200 [==============================] - 0s 2ms/step - loss: 0.0728 - accuracy: 0.9755 - val_loss: 0.0782 - val_accuracy: 0.9706\n",
            "Epoch 43/50\n",
            "200/200 [==============================] - 1s 3ms/step - loss: 0.0758 - accuracy: 0.9748 - val_loss: 0.0776 - val_accuracy: 0.9719\n",
            "Epoch 44/50\n",
            "200/200 [==============================] - 1s 3ms/step - loss: 0.0744 - accuracy: 0.9761 - val_loss: 0.0772 - val_accuracy: 0.9712\n",
            "Epoch 45/50\n",
            "200/200 [==============================] - 1s 4ms/step - loss: 0.0719 - accuracy: 0.9766 - val_loss: 0.0783 - val_accuracy: 0.9706\n",
            "Epoch 46/50\n",
            "200/200 [==============================] - 1s 4ms/step - loss: 0.0762 - accuracy: 0.9737 - val_loss: 0.0753 - val_accuracy: 0.9712\n",
            "Epoch 47/50\n",
            "200/200 [==============================] - 1s 3ms/step - loss: 0.0697 - accuracy: 0.9762 - val_loss: 0.0786 - val_accuracy: 0.9700\n",
            "Epoch 48/50\n",
            "200/200 [==============================] - 0s 2ms/step - loss: 0.0725 - accuracy: 0.9744 - val_loss: 0.0741 - val_accuracy: 0.9712\n",
            "Epoch 49/50\n",
            "200/200 [==============================] - 1s 3ms/step - loss: 0.0755 - accuracy: 0.9756 - val_loss: 0.0757 - val_accuracy: 0.9706\n",
            "Epoch 50/50\n",
            "200/200 [==============================] - 0s 2ms/step - loss: 0.0649 - accuracy: 0.9778 - val_loss: 0.0736 - val_accuracy: 0.9719\n"
          ]
        }
      ]
    },
    {
      "cell_type": "code",
      "source": [
        "# Prediksi Model\n",
        "y_pred_train = model_failure.predict(X_train) > 0.5\n",
        "y_pred_test = model_failure.predict(X_test) > 0.5"
      ],
      "metadata": {
        "colab": {
          "base_uri": "https://localhost:8080/"
        },
        "id": "bS9DYhMfOg5V",
        "outputId": "262e4a9b-65dd-4cff-ba25-d04ee7c9c30b"
      },
      "execution_count": null,
      "outputs": [
        {
          "output_type": "stream",
          "name": "stdout",
          "text": [
            "250/250 [==============================] - 0s 1ms/step\n",
            "63/63 [==============================] - 0s 1ms/step\n"
          ]
        }
      ]
    },
    {
      "cell_type": "code",
      "source": [
        "# Evaluasi model secara keseluruhan\n",
        "accuracy_train = accuracy_score(y_train, y_pred_train)\n",
        "accuracy_test = accuracy_score(y_test, y_pred_test)\n",
        "precision_test = precision_score(y_test, y_pred_test)\n",
        "recall_test = recall_score(y_test, y_pred_test)\n",
        "f1_test = f1_score(y_test, y_pred_test)\n",
        "conf_matrix = confusion_matrix(y_test, y_pred_test)\n",
        "\n",
        "print(f\"Training Accuracy: {accuracy_train}\")\n",
        "print(f\"Test Accuracy: {accuracy_test}\")\n",
        "print(f\"Precision: {precision_test}\")\n",
        "print(f\"Recall: {recall_test}\")\n",
        "print(f\"F1-Score: {f1_test}\")\n",
        "print(\"Confusion Matrix:\")\n",
        "print(conf_matrix)"
      ],
      "metadata": {
        "colab": {
          "base_uri": "https://localhost:8080/"
        },
        "id": "t7g8-rL4OkHJ",
        "outputId": "6401a8e6-3826-4d66-dc6f-a15b99de216c"
      },
      "execution_count": null,
      "outputs": [
        {
          "output_type": "stream",
          "name": "stdout",
          "text": [
            "Training Accuracy: 0.9805\n",
            "Test Accuracy: 0.976\n",
            "Precision: 0.6756756756756757\n",
            "Recall: 0.4098360655737705\n",
            "F1-Score: 0.5102040816326531\n",
            "Confusion Matrix:\n",
            "[[1927   12]\n",
            " [  36   25]]\n"
          ]
        }
      ]
    },
    {
      "cell_type": "code",
      "source": [
        "report = classification_report(y_test, y_pred_test)\n",
        "print(f'Hasil Klasifikasi:\\n{report}')"
      ],
      "metadata": {
        "id": "433A-ksNtN40",
        "colab": {
          "base_uri": "https://localhost:8080/"
        },
        "outputId": "12c16805-2548-4883-c2db-211456efea35"
      },
      "execution_count": null,
      "outputs": [
        {
          "output_type": "stream",
          "name": "stdout",
          "text": [
            "Hasil Klasifikasi:\n",
            "              precision    recall  f1-score   support\n",
            "\n",
            "           0       0.98      0.99      0.99      1939\n",
            "           1       0.68      0.41      0.51        61\n",
            "\n",
            "    accuracy                           0.98      2000\n",
            "   macro avg       0.83      0.70      0.75      2000\n",
            "weighted avg       0.97      0.98      0.97      2000\n",
            "\n"
          ]
        }
      ]
    },
    {
      "cell_type": "code",
      "source": [
        "# Visualize training history\n",
        "plt.figure(figsize=(12, 4))\n",
        "plt.subplot(1, 2, 1)\n",
        "plt.plot(history.history['loss'], label='Train Loss')\n",
        "plt.plot(history.history['val_loss'], label='Val Loss')\n",
        "plt.title('Loss over Epochs')\n",
        "plt.xlabel('Epochs')\n",
        "plt.ylabel('Loss')\n",
        "plt.legend()\n",
        "\n",
        "plt.subplot(1, 2, 2)\n",
        "plt.plot(history.history['accuracy'], label='Train Accuracy')\n",
        "plt.plot(history.history['val_accuracy'], label='Val Accuracy')\n",
        "plt.title('Accuracy over Epochs')\n",
        "plt.xlabel('Epochs')\n",
        "plt.ylabel('Accuracy')\n",
        "plt.legend()\n",
        "\n",
        "plt.show()"
      ],
      "metadata": {
        "colab": {
          "base_uri": "https://localhost:8080/",
          "height": 410
        },
        "id": "LTMnIR2QOmIW",
        "outputId": "c492bebe-3032-417a-ac6f-3580b843f59e"
      },
      "execution_count": null,
      "outputs": [
        {
          "output_type": "display_data",
          "data": {
            "text/plain": [
              "<Figure size 1200x400 with 2 Axes>"
            ],
            "image/png": "[encoded data removed]"
          },
          "metadata": {}
        }
      ]
    }
  ]
}